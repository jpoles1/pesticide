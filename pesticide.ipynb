{
 "cells": [
  {
   "cell_type": "code",
   "execution_count": 2,
   "metadata": {
    "collapsed": false
   },
   "outputs": [],
   "source": [
    "import pandas as pd\n",
    "from ggplot import *\n",
    "import json\n",
    "%matplotlib inline"
   ]
  },
  {
   "cell_type": "code",
   "execution_count": 3,
   "metadata": {
    "collapsed": false
   },
   "outputs": [
    {
     "name": "stderr",
     "output_type": "stream",
     "text": [
      "/usr/local/lib/python2.7/dist-packages/pandas/core/frame.py:1942: UserWarning: Boolean Series key will be reindexed to match DataFrame index.\n",
      "  \"DataFrame index.\", UserWarning)\n"
     ]
    }
   ],
   "source": [
    "rawdata = pd.read_csv(\"Resources_Pesticides_Use_E_All_Data.csv\")[[\"Country\", \"Year\", \"Item\", \"Value\"]]\n",
    "cleandata = rawdata.fillna(0)\n",
    "cleandata[\"Item\"]\n",
    "topchem = cleandata.groupby([\"Item\"], as_index=0)[\"Value\"].sum().sort_values(by=\"Value\", ascending=0)\n",
    "topchem = topchem[-topchem[\"Item\"].str.contains(\"Other\")][-topchem[\"Item\"].str.contains(\"Total\")][:25]\n",
    "cleandata = cleandata[cleandata[\"Item\"].isin(topchem[\"Item\"])]\n",
    "#cleamdata =  cleandata[cleandata[\"Item\"].isin([\"Amides\", \"Inorganics\", \"Dinitroanilines\", \"Dithiocarbamates\", \"\"])\n",
    "alldata = cleandata.groupby([\"Country\", \"Item\", \"Year\"], as_index=0).sum().sort_values(by=\"Country\")"
   ]
  },
  {
   "cell_type": "code",
   "execution_count": 4,
   "metadata": {
    "collapsed": false
   },
   "outputs": [],
   "source": [
    "def fdrec(df):\n",
    "    drec = dict()\n",
    "    ncols = df.values.shape[1]\n",
    "    for line in df.values:\n",
    "        d = drec\n",
    "        for j, col in enumerate(line[:-1]):\n",
    "            if not col in d.keys():\n",
    "                if j != ncols-2:\n",
    "                    d[col] = {}\n",
    "                    d = d[col]\n",
    "                else:\n",
    "                    d[col] = line[-1]\n",
    "            else:\n",
    "                if j!= ncols-2:\n",
    "                    d = d[col]\n",
    "    return drec\n",
    "with open(\"pesticide.json\", \"w\") as datafile:\n",
    "    datadict = fdrec(alldata)\n",
    "    json.dump(datadict, datafile, ensure_ascii=False)"
   ]
  },
  {
   "cell_type": "code",
   "execution_count": 5,
   "metadata": {
    "collapsed": false
   },
   "outputs": [],
   "source": [
    "#Pesticide Plot (All)\n",
    "chemsperyear = cleandata.groupby([\"Item\", \"Year\"], as_index=0)[\"Value\"].sum()\n",
    "#ggplot(aes(x=\"Year\", y=\"Value\", color=\"Item\"), data=chemsperyear)+geom_line()\n",
    "with open(\"chemsperyear.json\", \"w\") as datafile:\n",
    "    datadict = fdrec(chemsperyear)\n",
    "    json.dump(datadict, datafile, ensure_ascii=False)"
   ]
  },
  {
   "cell_type": "code",
   "execution_count": 6,
   "metadata": {
    "collapsed": false
   },
   "outputs": [],
   "source": [
    "chemspercountry = cleandata.groupby([\"Item\", \"Country\"], as_index=0)[\"Value\"].sum()\n",
    "with open(\"chemspercountry.json\", \"w\") as datafile:\n",
    "    datadict = fdrec(chemspercountry)\n",
    "    json.dump(datadict, datafile, ensure_ascii=False)"
   ]
  },
  {
   "cell_type": "code",
   "execution_count": 25,
   "metadata": {
    "collapsed": false
   },
   "outputs": [],
   "source": [
    "#DDT\n",
    "ddtraw = rawdata.loc[rawdata[\"Item\"]==\"Chlorinated Hydrocarbons\"]\n",
    "ddtbyyear = ddtraw.groupby([\"Year\", \"Country\"], as_index=0)[\"Value\"].sum()\n",
    "#ggplot(aes(x=\"Year\", y=\"Value\", color=\"Country\"), data=ddtbyyear.)+geom_line()"
   ]
  },
  {
   "cell_type": "code",
   "execution_count": 26,
   "metadata": {
    "collapsed": false
   },
   "outputs": [
    {
     "data": {
      "text/plain": [
       "83            Turkey\n",
       "72      South Africa\n",
       "58          Pakistan\n",
       "80          Thailand\n",
       "21           Ecuador\n",
       "27            France\n",
       "9             Canada\n",
       "85    United Kingdom\n",
       "15        Costa Rica\n",
       "Name: Country, dtype: object"
      ]
     },
     "execution_count": 26,
     "metadata": {},
     "output_type": "execute_result"
    }
   ],
   "source": [
    "ddtbycountry = ddtraw.groupby(\"Country\", as_index=0)[\"Value\"].sum().sort_values(by=\"Value\", ascending=0)\n",
    "top10 = ddtbycountry.iloc[1:10, 0]\n",
    "top10"
   ]
  },
  {
   "cell_type": "code",
   "execution_count": 21,
   "metadata": {
    "collapsed": false
   },
   "outputs": [
    {
     "data": {
      "text/plain": [
       "1990"
      ]
     },
     "execution_count": 21,
     "metadata": {},
     "output_type": "execute_result"
    }
   ],
   "source": [
    "min(rawdata[\"Year\"].value_counts().index)"
   ]
  },
  {
   "cell_type": "code",
   "execution_count": null,
   "metadata": {
    "collapsed": false
   },
   "outputs": [],
   "source": [
    "selectddtbyyear = ddtbyyear.ix[ddtbyyear[\"Country\"].isin(top10), :]\n",
    "ggplot(aes(x=\"Year\", y=\"Value\", color=\"Country\"), data=selectddtbyyear)+geom_line()"
   ]
  }
 ],
 "metadata": {
  "kernelspec": {
   "display_name": "Python 2",
   "language": "python",
   "name": "python2"
  },
  "language_info": {
   "codemirror_mode": {
    "name": "ipython",
    "version": 2
   },
   "file_extension": ".py",
   "mimetype": "text/x-python",
   "name": "python",
   "nbconvert_exporter": "python",
   "pygments_lexer": "ipython2",
   "version": "2.7.6"
  }
 },
 "nbformat": 4,
 "nbformat_minor": 0
}
